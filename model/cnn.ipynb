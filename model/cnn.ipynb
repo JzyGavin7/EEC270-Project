{
 "cells": [
  {
   "cell_type": "markdown",
   "metadata": {},
   "source": [
    "## CNN\n",
    "\n",
    "EEC 270 Website Fingerprinting"
   ]
  },
  {
   "cell_type": "code",
   "execution_count": 21,
   "metadata": {},
   "outputs": [],
   "source": [
    "import pandas as pd\n",
    "import matplotlib.pyplot as plt\n",
    "import seaborn as sns\n",
    "from sklearn.model_selection import train_test_split, cross_val_predict, cross_val_score\n",
    "from sklearn.metrics import accuracy_score\n",
    "import numpy as np\n",
    "\n",
    "# Ignore warnings\n",
    "import warnings\n",
    "warnings.filterwarnings(\"ignore\")\n",
    "\n",
    "# Set plotting style\n",
    "# sns.set_style('whitegrid')\n",
    "# sns.set_palette('Set2')\n",
    "\n",
    "data = pd.read_csv('data_5.csv')"
   ]
  },
  {
   "cell_type": "code",
   "execution_count": 2,
   "metadata": {},
   "outputs": [],
   "source": [
    "import torch\n",
    "import torch.nn as nn\n",
    "import torch.nn.functional as F\n",
    "import torch.optim as optim\n",
    "\n",
    "class CNN(nn.Module):\n",
    "\n",
    "    def __init__(self):\n",
    "        super(CNN, self).__init__()\n",
    "        self.conv = nn.Sequential(\n",
    "            nn.Conv2d(1, 8, 2),\n",
    "            nn.ReLU(),\n",
    "            nn.MaxPool2d(1, 1),\n",
    "            \n",
    "            nn.Conv2d(8, 16, 2),\n",
    "            nn.ReLU(),\n",
    "            # nn.MaxPool2d(1, 1),\n",
    "        )\n",
    "        self.linear = nn.Sequential(\n",
    "            nn.Linear(144, 72),\n",
    "            nn.BatchNorm1d(72),\n",
    "            nn.LeakyReLU(),\n",
    "            \n",
    "            nn.Linear(72, 31),\n",
    "            nn.BatchNorm1d(31),\n",
    "            nn.LeakyReLU(),\n",
    "        )\n",
    "\n",
    "    def forward(self, inputs):\n",
    "        output = self.conv(inputs)\n",
    "        output = output.view(output.size(0), -1)\n",
    "        return self.linear(output)"
   ]
  },
  {
   "cell_type": "code",
   "execution_count": 3,
   "metadata": {},
   "outputs": [],
   "source": [
    "from torch.utils.data import DataLoader, TensorDataset\n",
    "from torch.utils.data.sampler import SubsetRandomSampler\n",
    "import random\n",
    "\n",
    "BATCH_SIZE = 200\n",
    "\n",
    "X, y = data.values[:,:-1], data.values[:,-1]\n",
    "X, y = torch.Tensor(X), torch.Tensor(y)\n",
    "trans_X = X.reshape((len(X), 1, 5, 5))\n",
    "trans_X_ = X.reshape((5, len(X), 5))\n",
    "X = trans_X\n",
    "\n",
    "dataset = TensorDataset(X, y)\n",
    "loader = DataLoader(\n",
    "    dataset=dataset,\n",
    "    batch_size=BATCH_SIZE,\n",
    "    shuffle=True,\n",
    ")\n",
    "\n",
    "# Split dataset into train and valid, with a ratio of 4:1\n",
    "dataset_size = len(dataset)\n",
    "indices = list(range(dataset_size))\n",
    "random.shuffle(indices)\n",
    "split = int(np.floor(0.2 * dataset_size))\n",
    "train_indices, val_indices = indices[split:], indices[:split]\n",
    "\n",
    "# Creating PT data samplers and loaders:\n",
    "train_sampler = SubsetRandomSampler(train_indices)\n",
    "valid_sampler = SubsetRandomSampler(val_indices)\n",
    "\n",
    "train_loader = torch.utils.data.DataLoader(\n",
    "    dataset,\n",
    "    batch_size=BATCH_SIZE,\n",
    "    sampler=train_sampler\n",
    ")\n",
    "valid_loader = torch.utils.data.DataLoader(\n",
    "    dataset,\n",
    "    batch_size=BATCH_SIZE,\n",
    "    sampler=valid_sampler\n",
    ")\n",
    "\n",
    "X_test, y_test = None, None\n",
    "for _, test_sample in enumerate(valid_loader):\n",
    "    X_test, y_test = test_sample[0], test_sample[1].long()\n"
   ]
  },
  {
   "cell_type": "code",
   "execution_count": 7,
   "metadata": {},
   "outputs": [
    {
     "name": "stdout",
     "output_type": "stream",
     "text": [
      "Epoch 0 Training Loss: 3.402883768081665 Accuracy: 0.03005008347245409\n",
      "Epoch 100 Training Loss: 1.7720423936843872 Accuracy: 0.6477462437395659\n",
      "Epoch 200 Training Loss: 1.4352009296417236 Accuracy: 0.7111853088480802\n",
      "Epoch 300 Training Loss: 1.1173481941223145 Accuracy: 0.7696160267111853\n",
      "Epoch 400 Training Loss: 1.2116858959197998 Accuracy: 0.7829716193656093\n",
      "Epoch 500 Training Loss: 0.9402410984039307 Accuracy: 0.7996661101836394\n",
      "Epoch 600 Training Loss: 0.9204897880554199 Accuracy: 0.8096828046744574\n",
      "Epoch 700 Training Loss: 0.747073769569397 Accuracy: 0.8113522537562604\n",
      "Epoch 800 Training Loss: 0.8344688415527344 Accuracy: 0.8146911519198664\n",
      "Epoch 900 Training Loss: 0.812929093837738 Accuracy: 0.8146911519198664\n",
      "Epoch 1000 Training Loss: 0.8196234703063965 Accuracy: 0.8230383973288815\n",
      "Epoch 1100 Training Loss: 0.7112202048301697 Accuracy: 0.8130217028380634\n",
      "Epoch 1200 Training Loss: 0.7237445116043091 Accuracy: 0.8213689482470785\n",
      "Epoch 1300 Training Loss: 0.7327423095703125 Accuracy: 0.8297161936560935\n",
      "Epoch 1400 Training Loss: 0.5984018445014954 Accuracy: 0.8363939899833055\n",
      "Epoch 1500 Training Loss: 0.5066420435905457 Accuracy: 0.8614357262103506\n",
      "Epoch 1600 Training Loss: 0.4558117389678955 Accuracy: 0.8480801335559266\n",
      "Epoch 1700 Training Loss: 0.40588608384132385 Accuracy: 0.8631051752921536\n",
      "Epoch 1800 Training Loss: 0.4543802738189697 Accuracy: 0.8514190317195326\n",
      "Epoch 1900 Training Loss: 0.44991111755371094 Accuracy: 0.8914858096828047\n",
      "Epoch 2000 Training Loss: 0.5043033361434937 Accuracy: 0.8864774624373957\n",
      "Epoch 2100 Training Loss: 0.29680734872817993 Accuracy: 0.8864774624373957\n",
      "Epoch 2200 Training Loss: 0.4353002905845642 Accuracy: 0.8914858096828047\n",
      "Epoch 2300 Training Loss: 0.3738445043563843 Accuracy: 0.8948247078464107\n",
      "Epoch 2400 Training Loss: 0.3176589012145996 Accuracy: 0.8931552587646077\n",
      "Epoch 2500 Training Loss: 0.29373541474342346 Accuracy: 0.8864774624373957\n",
      "Epoch 2600 Training Loss: 0.28086429834365845 Accuracy: 0.8864774624373957\n",
      "Epoch 2700 Training Loss: 0.32874366641044617 Accuracy: 0.8948247078464107\n",
      "Epoch 2800 Training Loss: 0.3305198550224304 Accuracy: 0.8931552587646077\n",
      "Epoch 2900 Training Loss: 0.24231655895709991 Accuracy: 0.8864774624373957\n",
      "Epoch 3000 Training Loss: 0.36855006217956543 Accuracy: 0.8914858096828047\n",
      "Epoch 3100 Training Loss: 0.36586156487464905 Accuracy: 0.8931552587646077\n",
      "Epoch 3200 Training Loss: 0.38029932975769043 Accuracy: 0.8948247078464107\n",
      "Epoch 3300 Training Loss: 0.30976247787475586 Accuracy: 0.8948247078464107\n",
      "Epoch 3400 Training Loss: 0.3492319583892822 Accuracy: 0.9015025041736227\n",
      "Epoch 3500 Training Loss: 0.26790112257003784 Accuracy: 0.8914858096828047\n",
      "Epoch 3600 Training Loss: 0.23708458244800568 Accuracy: 0.8981636060100167\n",
      "Epoch 3700 Training Loss: 0.2807575464248657 Accuracy: 0.8881469115191987\n",
      "Epoch 3800 Training Loss: 0.2945029139518738 Accuracy: 0.9015025041736227\n",
      "Epoch 3900 Training Loss: 0.23135684430599213 Accuracy: 0.9031719532554258\n",
      "Epoch 4000 Training Loss: 0.21683502197265625 Accuracy: 0.8948247078464107\n",
      "Epoch 4100 Training Loss: 0.23756143450737 Accuracy: 0.9048414023372288\n",
      "Epoch 4200 Training Loss: 0.23548461496829987 Accuracy: 0.8914858096828047\n",
      "Epoch 4300 Training Loss: 0.1976235806941986 Accuracy: 0.8914858096828047\n",
      "Epoch 4400 Training Loss: 0.25913524627685547 Accuracy: 0.9031719532554258\n",
      "Epoch 4500 Training Loss: 0.17772284150123596 Accuracy: 0.9065108514190318\n",
      "Epoch 4600 Training Loss: 0.24893610179424286 Accuracy: 0.9031719532554258\n",
      "Epoch 4700 Training Loss: 0.2613195478916168 Accuracy: 0.9031719532554258\n",
      "Epoch 4800 Training Loss: 0.22020858526229858 Accuracy: 0.8964941569282137\n",
      "Epoch 4900 Training Loss: 0.20699955523014069 Accuracy: 0.9015025041736227\n"
     ]
    }
   ],
   "source": [
    "from torch.utils.tensorboard import SummaryWriter\n",
    "writer = SummaryWriter('./cnn')\n",
    "\n",
    "model = CNN()\n",
    "criterion = nn.CrossEntropyLoss()\n",
    "# optimizer = optim.Adam(model.parameters(), lr=0.001)\n",
    "optimizer = optim.SGD(model.parameters(), lr=0.0001, momentum=0.9)\n",
    "\n",
    "for epoch in range(5000):\n",
    "    for _, sample in enumerate(train_loader, 0):\n",
    "        model.zero_grad()\n",
    "        inputs, labels = sample\n",
    "        labels = labels.long()\n",
    "        pred = model(inputs)\n",
    "        \n",
    "        # Training loss\n",
    "        loss = criterion(pred, labels)\n",
    "        loss.backward()\n",
    "        optimizer.step()\n",
    "    \n",
    "    correct, total = 0, 0\n",
    "    with torch.no_grad():\n",
    "        for sample in valid_loader:\n",
    "            inputs, labels = sample\n",
    "            labels = labels.long()\n",
    "            pred = model(inputs)\n",
    "            \n",
    "            _, predicted = torch.max(pred.data, 1)\n",
    "            total += labels.size(0)\n",
    "            correct += (predicted == labels).sum().item()\n",
    "\n",
    "    writer.add_scalar('Loss/train', loss.item(), epoch)\n",
    "    writer.add_scalar('Accuracy/test', correct/total, epoch)\n",
    "        \n",
    "    if epoch % 100 == 0:\n",
    "        print('Epoch', epoch, 'Training Loss:', loss.item(), 'Accuracy:', correct/total)"
   ]
  },
  {
   "cell_type": "code",
   "execution_count": 8,
   "metadata": {},
   "outputs": [
    {
     "data": {
      "text/plain": [
       "0.8743718592964824"
      ]
     },
     "execution_count": 8,
     "metadata": {},
     "output_type": "execute_result"
    }
   ],
   "source": [
    "pred = model(X_test)\n",
    "accuracy_score(pred.argmax(axis=1), y_test)"
   ]
  },
  {
   "cell_type": "code",
   "execution_count": 44,
   "metadata": {},
   "outputs": [
    {
     "data": {
      "text/plain": [
       "Text(0.5, 1.0, 'Softmax Distribution vs. Labels for Sample 0')"
      ]
     },
     "execution_count": 44,
     "metadata": {},
     "output_type": "execute_result"
    },
    {
     "data": {
      "image/png": "[encoded data removed]",
      "text/plain": [
       "<Figure size 648x432 with 1 Axes>"
      ]
     },
     "metadata": {
      "needs_background": "light"
     },
     "output_type": "display_data"
    }
   ],
   "source": [
    "plt.figure(figsize=(9, 6))\n",
    "plt.xlabel('Class')\n",
    "plt.ylabel('Prob')\n",
    "plt.vlines(y_test[0], 0, pred[0].max(), linestyles='dashed', colors='.6', label='Labels')\n",
    "plt.plot(pred[0].cpu().detach().numpy())\n",
    "plt.legend(['Softmax Distribution', 'Labels'])\n",
    "plt.title('Softmax Distribution vs. Labels for Sample 0')"
   ]
  },
  {
   "cell_type": "code",
   "execution_count": null,
   "metadata": {},
   "outputs": [],
   "source": [
    "plt.figure(figsize=(9, 6))\n",
    "plt.xlabel('Class')\n",
    "plt.ylabel('Prob')\n",
    "plt.vlines(y_test[0], 0, pred[0].max(), linestyles='dashed', colors='.6', label='Labels')\n",
    "plt.plot(pred[0].cpu().detach().numpy())\n",
    "plt.legend(['Softmax Distribution', 'Labels'])\n",
    "plt.title('Softmax Distribution vs. Labels for Sample 0')"
   ]
  },
  {
   "cell_type": "code",
   "execution_count": 62,
   "metadata": {},
   "outputs": [
    {
     "data": {
      "text/plain": [
       "['cnn.pkl']"
      ]
     },
     "execution_count": 62,
     "metadata": {},
     "output_type": "execute_result"
    }
   ],
   "source": [
    "import joblib\n",
    "joblib.dump(model, 'cnn.pkl')"
   ]
  },
  {
   "cell_type": "code",
   "execution_count": 20,
   "metadata": {},
   "outputs": [
    {
     "name": "stdout",
     "output_type": "stream",
     "text": [
      "0.625\n"
     ]
    }
   ],
   "source": [
    "from sklearn.neural_network import MLPClassifier\n",
    "\n",
    "NN = MLPClassifier(solver='adam', alpha=1e-4, hidden_layer_sizes=(50, 100), random_state=0, max_iter=1000, activation='relu')\n",
    "\n",
    "X, y = data.values[:,:-1], data.values[:,-1]\n",
    "X_train, X_test, y_train, y_test = train_test_split(X, y, test_size=0.2)\n",
    "NN.fit(X_train, y_train)\n",
    "print(accuracy_score(NN.predict(X_test), y_test))\n"
   ]
  },
  {
   "cell_type": "code",
   "execution_count": 43,
   "metadata": {},
   "outputs": [
    {
     "data": {
      "text/plain": [
       "0.8683333333333333"
      ]
     },
     "execution_count": 43,
     "metadata": {},
     "output_type": "execute_result"
    }
   ],
   "source": [
    "from sklearn.ensemble import RandomForestClassifier\n",
    "RF = RandomForestClassifier(n_estimators=1000, max_depth=10, random_state=0).fit(X_train, y_train)\n",
    "accuracy_score(RF.predict(X_test), y_test)"
   ]
  },
  {
   "cell_type": "code",
   "execution_count": 54,
   "metadata": {},
   "outputs": [
    {
     "name": "stdout",
     "output_type": "stream",
     "text": [
      "0.8016666666666666\n"
     ]
    }
   ],
   "source": [
    "from sklearn.linear_model import LogisticRegression\n",
    "\n",
    "LR = LogisticRegression(solver='newton-cg', multi_class='multinomial', random_state=0)\n",
    "LR.fit(X_train, y_train)\n",
    "print(accuracy_score(LR.predict(X_test), y_test))"
   ]
  },
  {
   "cell_type": "code",
   "execution_count": 70,
   "metadata": {},
   "outputs": [
    {
     "data": {
      "text/plain": [
       "0.81"
      ]
     },
     "execution_count": 70,
     "metadata": {},
     "output_type": "execute_result"
    }
   ],
   "source": [
    "from sklearn.neighbors import KNeighborsClassifier\n",
    "kNN = KNeighborsClassifier(n_neighbors=3)\n",
    "kNN.fit(X_train, y_train)\n",
    "accuracy_score(kNN.predict(X_test), y_test)"
   ]
  }
 ],
 "metadata": {
  "interpreter": {
   "hash": "ef9226f5f281bed155f6877abe961f8893e93036b236b1a7e5395de73a55139a"
  },
  "kernelspec": {
   "display_name": "Python 3.6.4 64-bit",
   "language": "python",
   "name": "python3"
  },
  "language_info": {
   "codemirror_mode": {
    "name": "ipython",
    "version": 3
   },
   "file_extension": ".py",
   "mimetype": "text/x-python",
   "name": "python",
   "nbconvert_exporter": "python",
   "pygments_lexer": "ipython3",
   "version": "3.6.4"
  },
  "orig_nbformat": 4
 },
 "nbformat": 4,
 "nbformat_minor": 2
}
