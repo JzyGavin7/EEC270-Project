{
 "cells": [
  {
   "cell_type": "code",
   "execution_count": 1,
   "id": "c9fd25a0",
   "metadata": {},
   "outputs": [],
   "source": [
    "import numpy as np\n",
    "from sklearn.tree import DecisionTreeClassifier\n",
    "from sklearn.metrics import accuracy_score\n",
    "from sklearn.model_selection import train_test_split\n",
    "from pandas import read_csv"
   ]
  },
  {
   "cell_type": "code",
   "execution_count": 2,
   "id": "4ce733ac",
   "metadata": {},
   "outputs": [],
   "source": [
    "open_data = read_csv(\"database_open.csv\")\n",
    "close_data = read_csv(\"database_close.csv\")"
   ]
  },
  {
   "cell_type": "code",
   "execution_count": 9,
   "id": "f3567b8b",
   "metadata": {},
   "outputs": [
    {
     "name": "stdout",
     "output_type": "stream",
     "text": [
      "81.0\n"
     ]
    }
   ],
   "source": [
    "array = close_data.values\n",
    "X = array[:,0:25]\n",
    "Y = array[:,25]\n",
    "x_train, x_test, y_train, y_test = train_test_split(X, Y, random_state = 0, test_size = 0.2)\n",
    "\n",
    "clf = DecisionTreeClassifier().fit(x_train, y_train)\n",
    "y_pred=clf.predict(x_test)\n",
    "print(accuracy_score(y_test, y_pred) * 100)"
   ]
  },
  {
   "cell_type": "code",
   "execution_count": 11,
   "id": "5b0eaa3c",
   "metadata": {},
   "outputs": [
    {
     "name": "stdout",
     "output_type": "stream",
     "text": [
      "77.93427230046949\n"
     ]
    }
   ],
   "source": [
    "array = open_data.values\n",
    "X = array[:,0:25]\n",
    "Y = array[:,25]\n",
    "x_train, x_test, y_train, y_test = train_test_split(X, Y, random_state = 0, test_size = 0.2)\n",
    "\n",
    "clf = DecisionTreeClassifier().fit(x_train, y_train)\n",
    "y_pred=clf.predict(x_test)\n",
    "print(accuracy_score(y_test, y_pred) * 100)"
   ]
  }
 ],
 "metadata": {
  "kernelspec": {
   "display_name": "Python 3",
   "language": "python",
   "name": "python3"
  },
  "language_info": {
   "codemirror_mode": {
    "name": "ipython",
    "version": 3
   },
   "file_extension": ".py",
   "mimetype": "text/x-python",
   "name": "python",
   "nbconvert_exporter": "python",
   "pygments_lexer": "ipython3",
   "version": "3.8.8"
  }
 },
 "nbformat": 4,
 "nbformat_minor": 5
}
