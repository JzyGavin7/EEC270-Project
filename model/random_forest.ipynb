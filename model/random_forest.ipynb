{
 "cells": [
  {
   "cell_type": "code",
   "execution_count": 5,
   "id": "d7b148d8",
   "metadata": {},
   "outputs": [],
   "source": [
    "import numpy as np\n",
    "from sklearn.ensemble import RandomForestClassifier\n",
    "from sklearn.metrics import accuracy_score\n",
    "from sklearn.model_selection import train_test_split\n",
    "from pandas import read_csv"
   ]
  },
  {
   "cell_type": "code",
   "execution_count": 6,
   "id": "18310c5f",
   "metadata": {},
   "outputs": [],
   "source": [
    "open_data = read_csv(\"database_open.csv\")\n",
    "close_data = read_csv(\"database_close.csv\")"
   ]
  },
  {
   "cell_type": "code",
   "execution_count": 20,
   "id": "6c01b1b6",
   "metadata": {},
   "outputs": [
    {
     "name": "stdout",
     "output_type": "stream",
     "text": [
      "89.16666666666667\n"
     ]
    }
   ],
   "source": [
    "array = close_data.values\n",
    "X = array[:,0:25]\n",
    "Y = array[:,25]\n",
    "x_train, x_test, y_train, y_test = train_test_split(X, Y, random_state = 0, test_size = 0.2)\n",
    "\n",
    "clf = RandomForestClassifier(n_estimators=100).fit(x_train, y_train)\n",
    "y_pred=clf.predict(x_test)\n",
    "print(accuracy_score(y_test, y_pred) * 100)"
   ]
  },
  {
   "cell_type": "code",
   "execution_count": 19,
   "id": "294472aa",
   "metadata": {},
   "outputs": [
    {
     "name": "stdout",
     "output_type": "stream",
     "text": [
      "88.41940532081377\n"
     ]
    }
   ],
   "source": [
    "array = open_data.values\n",
    "X = array[:,0:25]\n",
    "Y = array[:,25]\n",
    "x_train, x_test, y_train, y_test = train_test_split(X, Y, random_state = 0, test_size = 0.2)\n",
    "\n",
    "clf = RandomForestClassifier(n_estimators=100).fit(x_train, y_train)\n",
    "y_pred=clf.predict(x_test)\n",
    "print(accuracy_score(y_test, y_pred) * 100)"
   ]
  }
 ],
 "metadata": {
  "kernelspec": {
   "display_name": "Python 3",
   "language": "python",
   "name": "python3"
  },
  "language_info": {
   "codemirror_mode": {
    "name": "ipython",
    "version": 3
   },
   "file_extension": ".py",
   "mimetype": "text/x-python",
   "name": "python",
   "nbconvert_exporter": "python",
   "pygments_lexer": "ipython3",
   "version": "3.8.8"
  }
 },
 "nbformat": 4,
 "nbformat_minor": 5
}
